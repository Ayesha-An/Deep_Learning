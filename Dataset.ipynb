{
 "cells": [
  {
   "cell_type": "code",
   "execution_count": 1,
   "id": "c6a651f1",
   "metadata": {},
   "outputs": [
    {
     "name": "stderr",
     "output_type": "stream",
     "text": [
      "C:\\Users\\aanwar\\Anaconda3\\envs\\py38\\lib\\site-packages\\tqdm\\auto.py:22: TqdmWarning: IProgress not found. Please update jupyter and ipywidgets. See https://ipywidgets.readthedocs.io/en/stable/user_install.html\n",
      "  from .autonotebook import tqdm as notebook_tqdm\n"
     ]
    }
   ],
   "source": [
    "import os\n",
    "import rasterio as rio\n",
    "from torch.utils.data import Dataset\n",
    "import torchvision\n",
    "import torch\n",
    "import numpy as np"
   ]
  },
  {
   "cell_type": "code",
   "execution_count": 2,
   "id": "30fa795d",
   "metadata": {},
   "outputs": [],
   "source": [
    "class SenDataset(Dataset):\n",
    "    \n",
    "    \n",
    "    # dirc represent the folder path \n",
    "    def __init__(self, dirc, transform = None):\n",
    "        self.dirc = dirc\n",
    "        self.transform = transform\n",
    "        \n",
    "        #get the directory for image and masks\n",
    "        #self.img= os.listdir(dirc)\n",
    "        \n",
    "        self.image_dir = os.path.join(self.dirc , \"image\")\n",
    "        self.mask_dir = os.path.join(self.dirc ,\"masks\")\n",
    "\n",
    "        self.images = os.listdir(self.image_dir)\n",
    "        self.masks = os.listdir(self.mask_dir)\n",
    "\n",
    "    \n",
    "    def __len__(self):\n",
    "        x = len(self.images)\n",
    "        return x\n",
    "    \n",
    "    \n",
    "    def __getitem__(self, index):\n",
    "        img_path = os.path.join(self.image_dir,self.images[index])\n",
    "        mask_path1 = os.path.join(self.mask_dir,self.images[index].replace ('S2.tiff','mask_aguada.tif'))\n",
    "        mask_path2 = os.path.join(self.mask_dir,self.images[index].replace ('S2.tiff','mask_building.tif'))\n",
    "        mask_path3 = os.path.join(self.mask_dir,self.images[index].replace ('S2.tiff','mask_platform.tif'))\n",
    "        \n",
    "        #print (mask_path1)\n",
    "\n",
    "        image = rio.open(img_path)\n",
    "        mask1 = rio.open(mask_path1)\n",
    "        mask2 = rio.open(mask_path2)\n",
    "        mask3 = rio.open(mask_path3)\n",
    "        \n",
    "        #return numpy values\n",
    "        image = image.read()\n",
    "        \n",
    "        # change it to 0 ansd 1\n",
    "        mask1 = mask1.read()/255\n",
    "        mask2= mask2.read()/255\n",
    "        mask3 = mask3.read()/255\n",
    "        \n",
    "        #stack the mask in one file\n",
    "        stack_mask = np.zeros(mask1.shape[0:3],np.float32)\n",
    "        \n",
    "        if mask1 is not None:  stack_mask[ mask1  == 1 ] = 1    \n",
    "        if mask2 is not None:  stack_mask[ mask2  == 1 ] = 2 \n",
    "        if mask3 is not None:  stack_mask[ mask3 == 1] = 3   \n",
    "\n",
    "            \n",
    "        tens_image = torch.from_numpy(image).to(\"cpu\")\n",
    "        tens_mask = torch.from_numpy(stack_mask).to(\"cpu\")\n",
    "        \n",
    "        \n",
    "        #apply trasformation\n",
    "        if self.transform:\n",
    "            tens_image = self.transform(tens_image)\n",
    "            tens_mask = self.transform(tens_mask)\n",
    "        \n",
    "        return tens_image, tens_mask\n",
    "    \n",
    "    \n",
    "    #selects a random image index for debugging.\n",
    "    def choose(self): \n",
    "        return self.randint(0,len(self))\n",
    "        "
   ]
  }
 ],
 "metadata": {
  "kernelspec": {
   "display_name": "Python 3 (ipykernel)",
   "language": "python",
   "name": "python3"
  },
  "language_info": {
   "codemirror_mode": {
    "name": "ipython",
    "version": 3
   },
   "file_extension": ".py",
   "mimetype": "text/x-python",
   "name": "python",
   "nbconvert_exporter": "python",
   "pygments_lexer": "ipython3",
   "version": "3.8.13"
  },
  "vscode": {
   "interpreter": {
    "hash": "1a178dae2b31e0ad65e8fce60666c77bd2552b1f081a9d7a8c224b0679aba1b1"
   }
  }
 },
 "nbformat": 4,
 "nbformat_minor": 5
}
